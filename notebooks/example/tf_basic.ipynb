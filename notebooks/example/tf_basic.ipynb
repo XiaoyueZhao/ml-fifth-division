{
 "cells": [
  {
   "cell_type": "code",
   "execution_count": 10,
   "metadata": {
    "collapsed": true,
    "deletable": true,
    "editable": true
   },
   "outputs": [],
   "source": [
    "import tensorflow as tf\n",
    "import matplotlib.pyplot as plt"
   ]
  },
  {
   "cell_type": "code",
   "execution_count": 4,
   "metadata": {
    "collapsed": true,
    "deletable": true,
    "editable": true
   },
   "outputs": [],
   "source": [
    "n_values = 32\n",
    "x = tf.linspace(-3.0, 3.0, n_values)"
   ]
  },
  {
   "cell_type": "code",
   "execution_count": 7,
   "metadata": {
    "collapsed": false,
    "deletable": true,
    "editable": true
   },
   "outputs": [
    {
     "name": "stdout",
     "output_type": "stream",
     "text": [
      "[-3.         -2.80645156 -2.61290312 -2.41935492 -2.22580647 -2.03225803\n",
      " -1.83870971 -1.64516139 -1.45161295 -1.25806451 -1.06451619 -0.87096786\n",
      " -0.67741942 -0.48387098 -0.29032278 -0.09677434  0.0967741   0.29032254\n",
      "  0.48387098  0.67741919  0.87096763  1.06451607  1.25806427  1.45161295\n",
      "  1.64516115  1.83870935  2.03225803  2.22580624  2.41935444  2.61290312\n",
      "  2.80645132  3.        ]\n"
     ]
    }
   ],
   "source": [
    "sess = tf.Session()\n",
    "result = sess.run(x)\n",
    "print(result)"
   ]
  },
  {
   "cell_type": "code",
   "execution_count": 8,
   "metadata": {
    "collapsed": false,
    "deletable": true,
    "editable": true
   },
   "outputs": [
    {
     "name": "stdout",
     "output_type": "stream",
     "text": [
      "[-3.         -2.80645156 -2.61290312 -2.41935492 -2.22580647 -2.03225803\n",
      " -1.83870971 -1.64516139 -1.45161295 -1.25806451 -1.06451619 -0.87096786\n",
      " -0.67741942 -0.48387098 -0.29032278 -0.09677434  0.0967741   0.29032254\n",
      "  0.48387098  0.67741919  0.87096763  1.06451607  1.25806427  1.45161295\n",
      "  1.64516115  1.83870935  2.03225803  2.22580624  2.41935444  2.61290312\n",
      "  2.80645132  3.        ]\n"
     ]
    }
   ],
   "source": [
    "print(x.eval(session=sess))"
   ]
  },
  {
   "cell_type": "code",
   "execution_count": 17,
   "metadata": {
    "collapsed": false,
    "deletable": true,
    "editable": true
   },
   "outputs": [],
   "source": [
    "sigma = 1.0\n",
    "mean = 0.0\n",
    "z = (tf.exp(tf.negative(tf.pow(x - mean, 2.0) /\n",
    "                   (2.0 * tf.pow(sigma, 2.0)))) *\n",
    "     (1.0 / (sigma * tf.sqrt(2.0 * 3.1415))))"
   ]
  },
  {
   "cell_type": "code",
   "execution_count": 15,
   "metadata": {
    "collapsed": false,
    "deletable": true,
    "editable": true
   },
   "outputs": [
    {
     "name": "stdout",
     "output_type": "stream",
     "text": [
      "[ 1.  1.  1.  1.  1.  1.]\n",
      "[0 1 0 2 0 1]\n"
     ]
    }
   ],
   "source": [
    "sess = tf.Session()\n",
    "a = tf.ones([6])\n",
    "print(sess.run(a))\n",
    "indices=[1,3,5]\n",
    "print(sess.run(tf.scatter_nd([[1],[3],[5]], [1,2,1], [6])))"
   ]
  },
  {
   "cell_type": "code",
   "execution_count": null,
   "metadata": {
    "collapsed": true
   },
   "outputs": [],
   "source": []
  }
 ],
 "metadata": {
  "kernelspec": {
   "display_name": "Python 3",
   "language": "python",
   "name": "python3"
  },
  "language_info": {
   "codemirror_mode": {
    "name": "ipython",
    "version": 3
   },
   "file_extension": ".py",
   "mimetype": "text/x-python",
   "name": "python",
   "nbconvert_exporter": "python",
   "pygments_lexer": "ipython3",
   "version": "3.4.3"
  }
 },
 "nbformat": 4,
 "nbformat_minor": 2
}
